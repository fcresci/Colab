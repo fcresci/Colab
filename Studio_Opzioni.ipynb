{
  "cells": [
    {
      "cell_type": "markdown",
      "metadata": {
        "id": "view-in-github",
        "colab_type": "text"
      },
      "source": [
        "<a href=\"https://colab.research.google.com/github/fcresci/Colab/blob/main/Studio_Opzioni.ipynb\" target=\"_parent\"><img src=\"https://colab.research.google.com/assets/colab-badge.svg\" alt=\"Open In Colab\"/></a>"
      ]
    },
    {
      "cell_type": "markdown",
      "id": "62eec323",
      "metadata": {
        "id": "62eec323"
      },
      "source": [
        "# Capire le greche delle opzioni"
      ]
    },
    {
      "cell_type": "code",
      "source": [
        "pip install qfin"
      ],
      "metadata": {
        "colab": {
          "base_uri": "https://localhost:8080/"
        },
        "id": "V_R5-AC49XMR",
        "outputId": "68406ab0-2efa-437b-88fc-18e764d3fb2b"
      },
      "id": "V_R5-AC49XMR",
      "execution_count": 3,
      "outputs": [
        {
          "output_type": "stream",
          "name": "stdout",
          "text": [
            "Looking in indexes: https://pypi.org/simple, https://us-python.pkg.dev/colab-wheels/public/simple/\n",
            "Requirement already satisfied: qfin in /usr/local/lib/python3.7/dist-packages (0.0.23)\n",
            "Requirement already satisfied: numpy in /usr/local/lib/python3.7/dist-packages (from qfin) (1.21.6)\n",
            "Requirement already satisfied: scipy in /usr/local/lib/python3.7/dist-packages (from qfin) (1.4.1)\n"
          ]
        }
      ]
    },
    {
      "cell_type": "code",
      "execution_count": 4,
      "id": "1101ab43",
      "metadata": {
        "id": "1101ab43"
      },
      "outputs": [],
      "source": [
        "import numpy as np\n",
        "import pandas as pd\n",
        "from qfin.options import BlackScholesCall\n",
        "import matplotlib.pyplot as plt"
      ]
    },
    {
      "cell_type": "code",
      "execution_count": 5,
      "id": "a7518f49",
      "metadata": {
        "colab": {
          "base_uri": "https://localhost:8080/",
          "height": 35
        },
        "id": "a7518f49",
        "outputId": "9ded7c0a-e0bf-4e8e-e8a8-b4cb70bf54b2"
      },
      "outputs": [
        {
          "output_type": "execute_result",
          "data": {
            "text/plain": [
              "'1.21.6'"
            ],
            "application/vnd.google.colaboratory.intrinsic+json": {
              "type": "string"
            }
          },
          "metadata": {},
          "execution_count": 5
        }
      ],
      "source": [
        "np.__version__"
      ]
    },
    {
      "cell_type": "code",
      "execution_count": 6,
      "id": "03a8aa95",
      "metadata": {
        "colab": {
          "base_uri": "https://localhost:8080/",
          "height": 35
        },
        "id": "03a8aa95",
        "outputId": "032e3914-885b-4780-e1c0-ffd7cc0b0357"
      },
      "outputs": [
        {
          "output_type": "execute_result",
          "data": {
            "text/plain": [
              "'1.3.5'"
            ],
            "application/vnd.google.colaboratory.intrinsic+json": {
              "type": "string"
            }
          },
          "metadata": {},
          "execution_count": 6
        }
      ],
      "source": [
        "pd.__version__"
      ]
    },
    {
      "cell_type": "markdown",
      "id": "a509e98e",
      "metadata": {
        "id": "a509e98e"
      },
      "source": [
        "### Welcome to Quant Guild Research!\n",
        "\n",
        "In this notebook we aim to provide an intuitive and visual understanding of option greeks.\n",
        "\n",
        "General knowledge of options and the difference between their price today and at expiration is recommended before proceeding.\n",
        "\n",
        "In order to compute the greeks we must first assume a model, for this example we will select the infamous Black-Scholes model:\n",
        "\n",
        "\n",
        "$$C = \\Phi(d_1) S_t - \\Phi(d_2) K e^{-rt}$$\n",
        "$$d1 = \\frac{ln(\\frac{S_t}{K}) + (r+\\frac{\\sigma^2}{2})t}{\\sigma \\sqrt t}$$\n",
        "$$d2 = d_1 - \\sigma \\sqrt t$$\n",
        "\n",
        "Where\n",
        "- $\\Phi$ is the normal cumulative distribution function\n",
        "- $S_t$ is the spot price at time $t$\n",
        "- $\\sigma$ is volatility\n",
        "- $K$ is the strike price of the option\n",
        "- $r$ is the risk-free rate of interest\n",
        "- $t$ is the time to expiration\n",
        "\n",
        "Fortunately, the QFin Python package has a BlackScholesCall class that makes it easy to visualize an option's price.\n",
        "\n",
        "Let's visualize an option's price fixing every parameter of the option except the spot price:"
      ]
    },
    {
      "cell_type": "code",
      "execution_count": 7,
      "id": "315a737a",
      "metadata": {
        "id": "315a737a"
      },
      "outputs": [],
      "source": [
        "# Fixed option parameters\n",
        "sigma = .3\n",
        "K = 100\n",
        "r = 0\n",
        "t = 1\n",
        "\n",
        "# Varying spot price\n",
        "S_t = np.linspace(60, 110, 100)\n",
        "\n",
        "# For option class storage\n",
        "options = []\n",
        "\n",
        "# Create an option for each spot price\n",
        "for i in range(len(S_t)):\n",
        "    options.append(BlackScholesCall(S_t[i], sigma, K, t, r))"
      ]
    },
    {
      "cell_type": "code",
      "execution_count": 8,
      "id": "e55e0820",
      "metadata": {
        "colab": {
          "base_uri": "https://localhost:8080/",
          "height": 317
        },
        "id": "e55e0820",
        "outputId": "c2de1ad3-59ea-490c-df0e-f9e34975c226"
      },
      "outputs": [
        {
          "output_type": "execute_result",
          "data": {
            "text/plain": [
              "[<matplotlib.lines.Line2D at 0x7f5d43e90a90>]"
            ]
          },
          "metadata": {},
          "execution_count": 8
        },
        {
          "output_type": "display_data",
          "data": {
            "text/plain": [
              "<Figure size 432x288 with 1 Axes>"
            ],
            "image/png": "[encoded data removed]"
          },
          "metadata": {
            "needs_background": "light"
          }
        }
      ],
      "source": [
        "# For storing option prices\n",
        "option_prices = []\n",
        "\n",
        "# Get the option prices from each class\n",
        "for option in options:\n",
        "    option_prices.append(option.price)\n",
        "\n",
        "# Plot the varying spots with the respective option prices\n",
        "plt.xlabel('$S_t$')\n",
        "plt.ylabel('Option Price')\n",
        "plt.title('Black-Scholes Option Price with Variable Spot')\n",
        "plt.plot(S_t, option_prices)"
      ]
    },
    {
      "cell_type": "markdown",
      "id": "3e126d3f",
      "metadata": {
        "id": "3e126d3f"
      },
      "source": [
        "We can see that different spot prices with the same fixed parameters (volatility, time to maturity, risk-free rate, and strike price) yield different prices.\n",
        "\n",
        "Suppose you own the option where currently the spot is trading for 85: $S_t = 85$"
      ]
    },
    {
      "cell_type": "code",
      "execution_count": 9,
      "id": "f1a5895f",
      "metadata": {
        "colab": {
          "base_uri": "https://localhost:8080/"
        },
        "id": "f1a5895f",
        "outputId": "96082c2a-717f-4ce2-d0c6-8c9eb6ba5937"
      },
      "outputs": [
        {
          "output_type": "stream",
          "name": "stdout",
          "text": [
            "Black-Scholes Price:  5.093107981057017\n"
          ]
        }
      ],
      "source": [
        "print('Black-Scholes Price: ', BlackScholesCall(85, sigma, K, t, r).price)"
      ]
    },
    {
      "cell_type": "markdown",
      "id": "b84f13e5",
      "metadata": {
        "id": "b84f13e5"
      },
      "source": [
        "and you wanted to know how much you can expect the price to change if thhe spot increases to $86$.  \n",
        "\n",
        "This is where the greeks come into play.\n",
        "\n",
        "Each greek is the partial derivative of the model price with respect to one of its variables.\n",
        "\n",
        "In this case we are going to look at the partial derivative with respect to the spot price: delta.\n",
        "\n",
        "Delta can be derived mathematically by taking the first-order partial derivative of the Black-Scholes model with respect to the spot price:\n",
        "\n",
        "$$\\frac{\\delta C}{\\delta S_t} = \\frac{\\delta}{\\delta S_t} [\\Phi(d_1) S_t - \\Phi(d_2) K e^{-rt}] = \\Phi(d1) - 0 = \\Phi(d1)$$"
      ]
    },
    {
      "cell_type": "code",
      "execution_count": 10,
      "id": "cdd3fa8f",
      "metadata": {
        "colab": {
          "base_uri": "https://localhost:8080/"
        },
        "id": "cdd3fa8f",
        "outputId": "e078627d-e0ca-4cc6-cd21-100a31bd0520"
      },
      "outputs": [
        {
          "output_type": "stream",
          "name": "stdout",
          "text": [
            "Black-Scholes Delta:  0.3476289474497055\n"
          ]
        }
      ],
      "source": [
        "print('Black-Scholes Delta: ', BlackScholesCall(85, sigma, K, t, r).delta)"
      ]
    },
    {
      "cell_type": "markdown",
      "id": "05f9a09f",
      "metadata": {
        "id": "05f9a09f"
      },
      "source": [
        "Those particularly keen will notice that the Black-Scholes model is non-linear and using the first-order partial derivative to derive sensitivity to an input is a linear process - this is true yielding some error commonly referred to as hedging error.\n",
        "\n",
        "We can add this line to our pricing equation using point-slope form:\n",
        "\n",
        "$$y - 5.0931 = .3476(x - 85)$$"
      ]
    },
    {
      "cell_type": "code",
      "execution_count": 11,
      "id": "51a18008",
      "metadata": {
        "id": "51a18008"
      },
      "outputs": [],
      "source": [
        "x = np.linspace(60, 110, 1000)\n",
        "y = .3476*(x - 85) + 5.0931"
      ]
    },
    {
      "cell_type": "markdown",
      "id": "11959c1a",
      "metadata": {
        "id": "11959c1a"
      },
      "source": [
        "This also means the further we get away from $S_t = 85$ the worse our approximation for change will get:"
      ]
    },
    {
      "cell_type": "code",
      "execution_count": 12,
      "id": "30d3dd02",
      "metadata": {
        "colab": {
          "base_uri": "https://localhost:8080/",
          "height": 317
        },
        "id": "30d3dd02",
        "outputId": "8ca6d787-0cc4-42b0-de8d-f24b25649baa"
      },
      "outputs": [
        {
          "output_type": "execute_result",
          "data": {
            "text/plain": [
              "<matplotlib.legend.Legend at 0x7f5d43d84ad0>"
            ]
          },
          "metadata": {},
          "execution_count": 12
        },
        {
          "output_type": "display_data",
          "data": {
            "text/plain": [
              "<Figure size 432x288 with 1 Axes>"
            ],
            "image/png": "[encoded data removed]"
          },
          "metadata": {
            "needs_background": "light"
          }
        }
      ],
      "source": [
        "plt.xlabel('$S_t$')\n",
        "plt.ylabel('Option Price')\n",
        "plt.title('Black-Scholes Option Price with Variable Spot')\n",
        "plt.plot(S_t, option_prices, label='Option Price')\n",
        "plt.plot(x, y, label='Delta@$S_t=85$')\n",
        "plt.legend()"
      ]
    },
    {
      "cell_type": "markdown",
      "id": "ce8075d3",
      "metadata": {
        "id": "ce8075d3"
      },
      "source": [
        "So how much can we expect our option price to change from the original 5.093 if the price were to increase to $86$?\n",
        "\n",
        "We can use delta (our linear approximation) to find out!"
      ]
    },
    {
      "cell_type": "code",
      "execution_count": 13,
      "id": "53fa0c0e",
      "metadata": {
        "colab": {
          "base_uri": "https://localhost:8080/"
        },
        "id": "53fa0c0e",
        "outputId": "e3fbd430-c9e9-49be-e650-36d47a954fda"
      },
      "outputs": [
        {
          "output_type": "stream",
          "name": "stdout",
          "text": [
            "Delta@S_t=85 for 86:  5.4407\n"
          ]
        }
      ],
      "source": [
        "new = .3476*(86 - 85) + 5.0931\n",
        "print('Delta@S_t=85 for 86: ', new)"
      ]
    },
    {
      "cell_type": "markdown",
      "id": "c2567f27",
      "metadata": {
        "id": "c2567f27"
      },
      "source": [
        "Notice that the value for delta is quoted in terms of the $change$ in value, we add the original option price at $S_t=85$ to yield the appropriate price on the line!\n",
        "\n",
        "Let's see what the value would really be at $86$ using the pricing solution:"
      ]
    },
    {
      "cell_type": "code",
      "execution_count": 14,
      "id": "3e71e7b5",
      "metadata": {
        "colab": {
          "base_uri": "https://localhost:8080/"
        },
        "id": "3e71e7b5",
        "outputId": "2cc0df5f-440f-4a1d-9fe1-5a596608a211"
      },
      "outputs": [
        {
          "output_type": "stream",
          "name": "stdout",
          "text": [
            "Black-Scholes Price:  5.44798933663143\n",
            "Hedging Error:  0.007289336631430388\n"
          ]
        }
      ],
      "source": [
        "print('Black-Scholes Price: ', BlackScholesCall(86, sigma, K, t, r).price)\n",
        "print('Hedging Error: ', BlackScholesCall(86, sigma, K, t, r).price - new)"
      ]
    },
    {
      "cell_type": "markdown",
      "id": "cbf0f092",
      "metadata": {
        "id": "cbf0f092"
      },
      "source": [
        "Not a bad approximation!  But notice how it gets worse the further you get from the initial spot value:"
      ]
    },
    {
      "cell_type": "code",
      "execution_count": 15,
      "id": "83a1a52a",
      "metadata": {
        "colab": {
          "base_uri": "https://localhost:8080/"
        },
        "id": "83a1a52a",
        "outputId": "207409f4-644a-4f05-a868-37ee775ce84a"
      },
      "outputs": [
        {
          "output_type": "stream",
          "name": "stdout",
          "text": [
            "Black-Scholes Price:  11.923538474048499\n",
            "Hedging Error:  1.6164384740484987\n"
          ]
        }
      ],
      "source": [
        "# Consider now the price at 100\n",
        "new = .3476*(100 - 85) + 5.0931\n",
        "print('Black-Scholes Price: ', BlackScholesCall(100, sigma, K, t, r).price)\n",
        "print('Hedging Error: ', BlackScholesCall(100, sigma, K, t, r).price - new)"
      ]
    },
    {
      "cell_type": "markdown",
      "id": "00564c0b",
      "metadata": {
        "id": "00564c0b"
      },
      "source": [
        "A much larger error!  This means we would want to recompute the delta as the spot price changes to provide a more accurate approximation.\n",
        "\n",
        "This is exactly what traders do!  \n",
        "\n",
        "Traders assume some model and use sensitivities derived in this fashion to manage their exposure by buying and selling both the underlying and other options."
      ]
    },
    {
      "cell_type": "markdown",
      "id": "b8c06254",
      "metadata": {
        "id": "b8c06254"
      },
      "source": [
        "© 2022, Quant Guild"
      ]
    }
  ],
  "metadata": {
    "kernelspec": {
      "display_name": "Python 3 (ipykernel)",
      "language": "python",
      "name": "python3"
    },
    "language_info": {
      "codemirror_mode": {
        "name": "ipython",
        "version": 3
      },
      "file_extension": ".py",
      "mimetype": "text/x-python",
      "name": "python",
      "nbconvert_exporter": "python",
      "pygments_lexer": "ipython3",
      "version": "3.9.9"
    },
    "colab": {
      "name": "Studio Opzioni.ipynb",
      "provenance": [],
      "include_colab_link": true
    }
  },
  "nbformat": 4,
  "nbformat_minor": 5
}